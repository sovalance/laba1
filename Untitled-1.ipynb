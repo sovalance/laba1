{
 "cells": [
  {
   "cell_type": "code",
   "execution_count": 15,
   "metadata": {},
   "outputs": [
    {
     "name": "stdout",
     "output_type": "stream",
     "text": [
      "[[127244     60     16]\n",
      " [ 23891     25      7]\n",
      " [ 94746     10      6]]\n"
     ]
    }
   ],
   "source": [
    "import numpy as np \n",
    "\n",
    "with open(\"minutes_n_ingredients.csv\") as f: \n",
    "    lines = f.readlines() \n",
    "    a = np.loadtxt(lines, delimiter=',', skiprows = 1, dtype = \"int32\") \n",
    "    print(a[0:5])\n",
    "    "
   ]
  }
 ],
 "metadata": {
  "kernelspec": {
   "display_name": "Python 3",
   "language": "python",
   "name": "python3"
  },
  "language_info": {
   "codemirror_mode": {
    "name": "ipython",
    "version": 3
   },
   "file_extension": ".py",
   "mimetype": "text/x-python",
   "name": "python",
   "nbconvert_exporter": "python",
   "pygments_lexer": "ipython3",
   "version": "3.12.3"
  }
 },
 "nbformat": 4,
 "nbformat_minor": 2
}
